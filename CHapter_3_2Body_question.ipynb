{
 "cells": [
  {
   "cell_type": "markdown",
   "id": "604864a0",
   "metadata": {},
   "source": [
    "## 第三章：二体问题\n",
    "\n"
   ]
  },
  {
   "cell_type": "markdown",
   "id": "ea1418fa",
   "metadata": {},
   "source": [
    "3.1 二体问题运动微分方程\n",
    "\n",
    "$$ \\ddot{\\mathbf{r}} + \\frac{\\mu}{{r}^3}\\mathbf{r} = 0 $$\n",
    "不变量h(单位质量角动量)：\n",
    "$$ \\mathbf{h} = \\mathbf{r} \\times \\dot{\\mathbf{r}} = \\begin{bmatrix}\n",
    "    h_x \\\\\n",
    "    h_y \\\\\n",
    "    h_z\n",
    "\\end{bmatrix} $$\n",
    " \n",
    "$$ h = \\sqrt{{h_x}^2+{h_y}^2+{h_z}^2}\n",
    "$$   \n",
    "$\\mathbf{h}$可确定轨道方向：\n",
    "轨道倾角i：\n",
    "$$ i = \\arccos{\\frac{h_z}{h}} $$\n",
    "轨道升交点赤经$\\Omega$：\n",
    "$$ \\Omega = \\arctan{\\frac{h_x}{-h_y}} $$\n",
    "如果$h_y<0$，则$\\Omega$取负。\n",
    "\n",
    "不变量e（离心率）：\n",
    "\n",
    "$$ {\\mathbf{e}} = \\frac{\\dot{\\mathbf{r}}\\times\\mathbf{h}}{\\mu}-\\frac{\\mathbf{r}}{r} = \\begin{bmatrix}\n",
    "    e_x \\\\\n",
    "    e_y \\\\\n",
    "    e_z\n",
    "\\end{bmatrix} $$\n",
    " \n",
    "$$ e = \\sqrt{{e_x}^2+{e_y}^2+{e_z}^2} \n",
    "$$\n",
    "近心点角距：\n",
    "$$ \\omega = \\arctan{\\frac{e_z}{({e_x}{\\cos{\\Omega}}+{e_y}{\\sin{\\Omega}}){\\sin{i}}}} $$\n",
    "计算半长轴：\n",
    "$$ a = \\frac{h^2}{\\mu(1-e^2)} $$\n",
    "升交点角距：\n",
    "$$ {u} = \\arctan{\\frac{Z}{({X}{\\cos{\\Omega}}+{Y}{\\sin{\\Omega}}){\\sin{i}}}} $$\n",
    "近心点角距：\n",
    "$$ {f} = {u} -\\omega $$\n",
    "\n",
    "\n",
    "\n"
   ]
  },
  {
   "cell_type": "code",
   "execution_count": 2,
   "id": "ca15b8e3",
   "metadata": {},
   "outputs": [],
   "source": [
    "import numpy as np\n",
    "import matplotlib.pyplot as plt"
   ]
  },
  {
   "cell_type": "code",
   "execution_count": 3,
   "id": "578c6916",
   "metadata": {},
   "outputs": [
    {
     "name": "stdout",
     "output_type": "stream",
     "text": [
      "轨道角动量为： [   96876. -1461802.    54994.]\n"
     ]
    }
   ],
   "source": [
    "#从键盘输入初始的位置向量和速度向量\n",
    "x,y,z = map(float,input(\"请输入初始的位置向量(x,y,z)：\").split())\n",
    "vx,vy,vz = map(float,input(\"请输入初始的速度向量(vx,vy,vz)：\").split())\n",
    "\n",
    "r_vec = np.array([x,y,z])\n",
    "v_vec = np.array([vx,vy,vz])\n",
    "\n",
    "h_vec = np.cross(r_vec,v_vec)\n",
    "\n",
    "print(\"轨道角动量为：\",h_vec)\n"
   ]
  }
 ],
 "metadata": {
  "kernelspec": {
   "display_name": "Python 3",
   "language": "python",
   "name": "python3"
  },
  "language_info": {
   "codemirror_mode": {
    "name": "ipython",
    "version": 3
   },
   "file_extension": ".py",
   "mimetype": "text/x-python",
   "name": "python",
   "nbconvert_exporter": "python",
   "pygments_lexer": "ipython3",
   "version": "3.10.18"
  }
 },
 "nbformat": 4,
 "nbformat_minor": 5
}
